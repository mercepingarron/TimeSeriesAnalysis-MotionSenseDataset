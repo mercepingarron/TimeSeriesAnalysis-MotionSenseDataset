{
 "cells": [
  {
   "cell_type": "markdown",
   "metadata": {},
   "source": [
    "# Consolidate dataset"
   ]
  },
  {
   "cell_type": "code",
   "execution_count": 1,
   "metadata": {},
   "outputs": [],
   "source": [
    "# Import relevant packages\n",
    "import os\n",
    "import sys\n",
    "import pandas as pd\n"
   ]
  },
  {
   "cell_type": "code",
   "execution_count": 47,
   "metadata": {},
   "outputs": [
    {
     "name": "stdout",
     "output_type": "stream",
     "text": [
      "None\n",
      "/Users/mercedespingarron/Documents/Code/MachineLearning/TimeSeries/A_DeviceMotion_data\n"
     ]
    }
   ],
   "source": [
    "rootdir = '/Users/mercedespingarron/Documents/Code/MachineLearning/TimeSeries/A_DeviceMotion_data'\n",
    "path = os.getcwd()\n",
    "\n",
    "working_dir = os.chdir(rootdir)\n",
    "print(working_dir) \n",
    "\n",
    "path = os.getcwd()\n",
    "print(path)"
   ]
  },
  {
   "cell_type": "markdown",
   "metadata": {},
   "source": [
    "# Manipulate files"
   ]
  },
  {
   "cell_type": "markdown",
   "metadata": {},
   "source": [
    "###### resources\n",
    "http://pbpython.com/categorical-encoding.html # dealing with categorical columns\n",
    "https://chrisalbon.com/python/data_wrangling/pandas_dataframe_importing_csv/ #loading files in pandas"
   ]
  },
  {
   "cell_type": "code",
   "execution_count": 14,
   "metadata": {},
   "outputs": [],
   "source": [
    "files = []\n",
    "\n",
    "# List of tuples with (directory, file) names\n",
    "for entry in  os.scandir(path): # entry denotes directory \n",
    "    for f in os.scandir(path + \"/\" + entry.name):\n",
    "        files.append((entry.name, f.name))   \n",
    "\n",
    "# Example of the data structure named files\n",
    "# [('dws_11', 'sub_12.csv'), ('dws_11', 'sub_1.csv'), ('dws_11', 'sub_13.csv'), ('dws_11', 'sub_11.csv'),"
   ]
  },
  {
   "cell_type": "code",
   "execution_count": 62,
   "metadata": {},
   "outputs": [],
   "source": [
    "# Extract subject information\n",
    "df_subject_info = pd.read_csv('/Users/mercedespingarron/Documents/Code/MachineLearning/TimeSeries/data_subjects_info.csv')\n",
    "\n",
    "# Extract info from directory:\n",
    "# - activity, example: dws (downstairs), part of the directory name\n",
    "# - duration: 1 to 9 long trial, 11 to 16 short trial\n",
    "# - trial: each directory is a trial\n",
    "# - subject: part of the file name\n",
    "\n",
    "activity = [('dws', 0), ('jog', 1), ('sit', 2), ('std', 3), ('ups', 4), ('wlk', 5) ]\n",
    "\n",
    "trial_num = 0\n",
    "previous_dir = \"\"\n",
    "data_frames = []\n",
    "new_df = []\n",
    "\n",
    "for entry in files:\n",
    "    \n",
    "    dir_info =entry[0].split('_')\n",
    "    if dir_info[0] == 0 or dir_info[0] != previous_dir:\n",
    "        previous_dir = dir_info[0]\n",
    "        trial_num += 1\n",
    "\n",
    "    df = pd.read_csv(entry[0] + \"/\" + entry[1], header=0)\n",
    "    data_frames.append(df)\n",
    "    \n",
    "    #trial number\n",
    "    df['trial_num'] = trial_num\n",
    "    \n",
    "    #subject number\n",
    "    subject_num = entry[1].split('_')\n",
    "    subject = subject_num[1].split('.')[0]\n",
    "    df['subject'] = subject\n",
    "    \n",
    "\n",
    "\n",
    "\n",
    "     \n",
    "#     # trial duration\n",
    "#     if int(dir_info[1]) >= 10:\n",
    "#         df['trial_duration'] = 1 #long duration\n",
    "#     else:\n",
    "#         df['trial_duration'] = 0 #short duration\n",
    "\n",
    "#     # activity conversion    \n",
    "#     for entry in activity:\n",
    "#         if entry[0] == dir_info[0]:\n",
    "#             df['trial_activity'] = entry[1]\n",
    "\n",
    "    #subject information\n",
    "    new_df = df_subject_info.loc[df_subject_info['code'].isin([subject])]\n",
    "    weight = new_df['weight']\n",
    "    df['weight'] = weight\n",
    "\n",
    "data_frames[0].to_csv('myTest.csv')"
   ]
  },
  {
   "cell_type": "code",
   "execution_count": null,
   "metadata": {},
   "outputs": [],
   "source": []
  }
 ],
 "metadata": {
  "kernelspec": {
   "display_name": "Python 3",
   "language": "python",
   "name": "python3"
  },
  "language_info": {
   "codemirror_mode": {
    "name": "ipython",
    "version": 3
   },
   "file_extension": ".py",
   "mimetype": "text/x-python",
   "name": "python",
   "nbconvert_exporter": "python",
   "pygments_lexer": "ipython3",
   "version": "3.6.4"
  }
 },
 "nbformat": 4,
 "nbformat_minor": 2
}
